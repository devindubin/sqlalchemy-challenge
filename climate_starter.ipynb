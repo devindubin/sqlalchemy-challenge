{
 "cells": [
  {
   "cell_type": "code",
   "execution_count": 1,
   "metadata": {},
   "outputs": [],
   "source": [
    "%matplotlib inline\n",
    "from matplotlib import style\n",
    "style.use('fivethirtyeight')\n",
    "import matplotlib.pyplot as plt"
   ]
  },
  {
   "cell_type": "code",
   "execution_count": 2,
   "metadata": {},
   "outputs": [],
   "source": [
    "import numpy as np\n",
    "import pandas as pd"
   ]
  },
  {
   "cell_type": "code",
   "execution_count": 3,
   "metadata": {},
   "outputs": [],
   "source": [
    "import datetime as dt"
   ]
  },
  {
   "cell_type": "markdown",
   "metadata": {},
   "source": [
    "# Reflect Tables into SQLAlchemy ORM"
   ]
  },
  {
   "cell_type": "code",
   "execution_count": 31,
   "metadata": {},
   "outputs": [],
   "source": [
    "# Python SQL toolkit and Object Relational Mapper\n",
    "import sqlalchemy\n",
    "from sqlalchemy.ext.automap import automap_base\n",
    "from sqlalchemy.orm import Session, Query\n",
    "from sqlalchemy import create_engine, func, inspect"
   ]
  },
  {
   "cell_type": "code",
   "execution_count": 25,
   "metadata": {},
   "outputs": [],
   "source": [
    "engine = create_engine(\"sqlite:///Resources/hawaii.sqlite\")\n"
   ]
  },
  {
   "cell_type": "code",
   "execution_count": 26,
   "metadata": {},
   "outputs": [],
   "source": [
    "# reflect an existing database into a new model\n",
    "Base = automap_base()\n",
    "Base.prepare(engine,reflect=True)\n",
    "\n",
    "# reflect the tables"
   ]
  },
  {
   "cell_type": "code",
   "execution_count": 27,
   "metadata": {},
   "outputs": [
    {
     "output_type": "execute_result",
     "data": {
      "text/plain": [
       "['measurement', 'station']"
      ]
     },
     "metadata": {},
     "execution_count": 27
    }
   ],
   "source": [
    "# We can view all of the classes that automap found\n",
    "Base.classes.keys()"
   ]
  },
  {
   "cell_type": "code",
   "execution_count": 28,
   "metadata": {},
   "outputs": [],
   "source": [
    "# Save references to each table\n",
    "measurement = Base.classes.measurement\n",
    "station = Base.classes.station"
   ]
  },
  {
   "cell_type": "code",
   "execution_count": 29,
   "metadata": {},
   "outputs": [],
   "source": [
    "# Create our session (link) from Python to the DB\n",
    "session = Session(engine)"
   ]
  },
  {
   "cell_type": "code",
   "execution_count": 41,
   "metadata": {},
   "outputs": [
    {
     "output_type": "execute_result",
     "data": {
      "text/plain": [
       "[{'name': 'id',\n",
       "  'type': INTEGER(),\n",
       "  'nullable': False,\n",
       "  'default': None,\n",
       "  'autoincrement': 'auto',\n",
       "  'primary_key': 1},\n",
       " {'name': 'station',\n",
       "  'type': TEXT(),\n",
       "  'nullable': True,\n",
       "  'default': None,\n",
       "  'autoincrement': 'auto',\n",
       "  'primary_key': 0},\n",
       " {'name': 'date',\n",
       "  'type': TEXT(),\n",
       "  'nullable': True,\n",
       "  'default': None,\n",
       "  'autoincrement': 'auto',\n",
       "  'primary_key': 0},\n",
       " {'name': 'prcp',\n",
       "  'type': FLOAT(),\n",
       "  'nullable': True,\n",
       "  'default': None,\n",
       "  'autoincrement': 'auto',\n",
       "  'primary_key': 0},\n",
       " {'name': 'tobs',\n",
       "  'type': FLOAT(),\n",
       "  'nullable': True,\n",
       "  'default': None,\n",
       "  'autoincrement': 'auto',\n",
       "  'primary_key': 0}]"
      ]
     },
     "metadata": {},
     "execution_count": 41
    }
   ],
   "source": [
    "inspector = inspect(engine)\n",
    "inspector.get_columns('measurement')"
   ]
  },
  {
   "cell_type": "markdown",
   "metadata": {},
   "source": [
    "# Exploratory Climate Analysis"
   ]
  },
  {
   "cell_type": "code",
   "execution_count": 50,
   "metadata": {},
   "outputs": [
    {
     "output_type": "execute_result",
     "data": {
      "text/plain": [
       ">,\n",
       " <sqlalchemy.ext.automap.measurement at 0x1279313f2e8>,\n",
       " <sqlalchemy.ext.automap.measurement at 0x1279313f1d0>,\n",
       " <sqlalchemy.ext.automap.measurement at 0x1279313f390>,\n",
       " <sqlalchemy.ext.automap.measurement at 0x1279313fc18>,\n",
       " <sqlalchemy.ext.automap.measurement at 0x1279313ffd0>,\n",
       " <sqlalchemy.ext.automap.measurement at 0x1279313fda0>,\n",
       " <sqlalchemy.ext.automap.measurement at 0x12792aa7cf8>,\n",
       " <sqlalchemy.ext.automap.measurement at 0x12792aa7978>,\n",
       " <sqlalchemy.ext.automap.measurement at 0x12792aa7a58>,\n",
       " <sqlalchemy.ext.automap.measurement at 0x12792aa7470>,\n",
       " <sqlalchemy.ext.automap.measurement at 0x12792aa71d0>,\n",
       " <sqlalchemy.ext.automap.measurement at 0x12792aa7898>,\n",
       " <sqlalchemy.ext.automap.measurement at 0x12792aa7780>,\n",
       " <sqlalchemy.ext.automap.measurement at 0x12792aa7908>,\n",
       " <sqlalchemy.ext.automap.measurement at 0x12792aa72b0>,\n",
       " <sqlalchemy.ext.automap.measurement at 0x12792aa7c50>,\n",
       " <sqlalchemy.ext.automap.measurement at 0x12792aa7d30>,\n",
       " <sqlalchemy.ext.automap.measurement at 0x12792aa76d8>,\n",
       " <sqlalchemy.ext.automap.measurement at 0x12792985518>,\n",
       " <sqlalchemy.ext.automap.measurement at 0x12792985550>,\n",
       " <sqlalchemy.ext.automap.measurement at 0x12792985048>,\n",
       " <sqlalchemy.ext.automap.measurement at 0x127929850f0>,\n",
       " <sqlalchemy.ext.automap.measurement at 0x12792985198>,\n",
       " <sqlalchemy.ext.automap.measurement at 0x12792985240>,\n",
       " <sqlalchemy.ext.automap.measurement at 0x127929852e8>,\n",
       " <sqlalchemy.ext.automap.measurement at 0x12792985630>,\n",
       " <sqlalchemy.ext.automap.measurement at 0x127929856d8>,\n",
       " <sqlalchemy.ext.automap.measurement at 0x12792985780>,\n",
       " <sqlalchemy.ext.automap.measurement at 0x12792985828>,\n",
       " <sqlalchemy.ext.automap.measurement at 0x127929858d0>,\n",
       " <sqlalchemy.ext.automap.measurement at 0x12792985978>,\n",
       " <sqlalchemy.ext.automap.measurement at 0x12792985a20>,\n",
       " <sqlalchemy.ext.automap.measurement at 0x12792985ac8>,\n",
       " <sqlalchemy.ext.automap.measurement at 0x12792985b70>,\n",
       " <sqlalchemy.ext.automap.measurement at 0x12792985c18>,\n",
       " <sqlalchemy.ext.automap.measurement at 0x12792985cc0>,\n",
       " <sqlalchemy.ext.automap.measurement at 0x12792985d68>,\n",
       " <sqlalchemy.ext.automap.measurement at 0x12792985e10>,\n",
       " <sqlalchemy.ext.automap.measurement at 0x12792985eb8>,\n",
       " <sqlalchemy.ext.automap.measurement at 0x12792985f60>,\n",
       " <sqlalchemy.ext.automap.measurement at 0x12793864048>,\n",
       " <sqlalchemy.ext.automap.measurement at 0x127938640f0>,\n",
       " <sqlalchemy.ext.automap.measurement at 0x12793864198>,\n",
       " <sqlalchemy.ext.automap.measurement at 0x12793864240>,\n",
       " <sqlalchemy.ext.automap.measurement at 0x127938642e8>,\n",
       " <sqlalchemy.ext.automap.measurement at 0x12793864390>,\n",
       " <sqlalchemy.ext.automap.measurement at 0x12793864438>,\n",
       " <sqlalchemy.ext.automap.measurement at 0x127938644e0>,\n",
       " <sqlalchemy.ext.automap.measurement at 0x12793864588>,\n",
       " <sqlalchemy.ext.automap.measurement at 0x12793864630>,\n",
       " <sqlalchemy.ext.automap.measurement at 0x127938646d8>,\n",
       " <sqlalchemy.ext.automap.measurement at 0x12793864780>,\n",
       " <sqlalchemy.ext.automap.measurement at 0x12793864828>,\n",
       " <sqlalchemy.ext.automap.measurement at 0x127938648d0>,\n",
       " <sqlalchemy.ext.automap.measurement at 0x12793864978>,\n",
       " <sqlalchemy.ext.automap.measurement at 0x12793864a20>,\n",
       " <sqlalchemy.ext.automap.measurement at 0x12793864ac8>,\n",
       " <sqlalchemy.ext.automap.measurement at 0x12793864b70>,\n",
       " <sqlalchemy.ext.automap.measurement at 0x12793864c18>,\n",
       " <sqlalchemy.ext.automap.measurement at 0x12793864cc0>,\n",
       " <sqlalchemy.ext.automap.measurement at 0x12793864d68>,\n",
       " <sqlalchemy.ext.automap.measurement at 0x12793864e10>,\n",
       " <sqlalchemy.ext.automap.measurement at 0x12793864eb8>,\n",
       " <sqlalchemy.ext.automap.measurement at 0x12793864f60>,\n",
       " <sqlalchemy.ext.automap.measurement at 0x1279386d048>,\n",
       " <sqlalchemy.ext.automap.measurement at 0x1279386d0f0>,\n",
       " <sqlalchemy.ext.automap.measurement at 0x1279386d198>,\n",
       " <sqlalchemy.ext.automap.measurement at 0x1279386d240>,\n",
       " <sqlalchemy.ext.automap.measurement at 0x1279386d2e8>,\n",
       " <sqlalchemy.ext.automap.measurement at 0x1279386d390>,\n",
       " <sqlalchemy.ext.automap.measurement at 0x1279386d438>,\n",
       " <sqlalchemy.ext.automap.measurement at 0x1279386d4e0>,\n",
       " <sqlalchemy.ext.automap.measurement at 0x1279386d588>,\n",
       " <sqlalchemy.ext.automap.measurement at 0x1279386d630>,\n",
       " <sqlalchemy.ext.automap.measurement at 0x1279386d6d8>,\n",
       " <sqlalchemy.ext.automap.measurement at 0x1279386d780>,\n",
       " <sqlalchemy.ext.automap.measurement at 0x1279386d828>,\n",
       " <sqlalchemy.ext.automap.measurement at 0x1279386d8d0>,\n",
       " <sqlalchemy.ext.automap.measurement at 0x1279386d978>,\n",
       " <sqlalchemy.ext.automap.measurement at 0x1279386da20>,\n",
       " <sqlalchemy.ext.automap.measurement at 0x1279386dac8>,\n",
       " <sqlalchemy.ext.automap.measurement at 0x1279386db70>,\n",
       " <sqlalchemy.ext.automap.measurement at 0x1279386dc18>,\n",
       " <sqlalchemy.ext.automap.measurement at 0x1279386dcc0>,\n",
       " <sqlalchemy.ext.automap.measurement at 0x1279386dd68>,\n",
       " <sqlalchemy.ext.automap.measurement at 0x1279386de10>,\n",
       " <sqlalchemy.ext.automap.measurement at 0x1279386deb8>,\n",
       " <sqlalchemy.ext.automap.measurement at 0x1279386df60>,\n",
       " <sqlalchemy.ext.automap.measurement at 0x12793876048>,\n",
       " <sqlalchemy.ext.automap.measurement at 0x127938760f0>,\n",
       " <sqlalchemy.ext.automap.measurement at 0x12793876198>,\n",
       " <sqlalchemy.ext.automap.measurement at 0x12793876240>,\n",
       " <sqlalchemy.ext.automap.measurement at 0x127938762e8>,\n",
       " <sqlalchemy.ext.automap.measurement at 0x12793876390>,\n",
       " <sqlalchemy.ext.automap.measurement at 0x12793876438>,\n",
       " <sqlalchemy.ext.automap.measurement at 0x127938764e0>,\n",
       " <sqlalchemy.ext.automap.measurement at 0x12793876588>,\n",
       " <sqlalchemy.ext.automap.measurement at 0x12793876630>,\n",
       " <sqlalchemy.ext.automap.measurement at 0x127938766d8>,\n",
       " <sqlalchemy.ext.automap.measurement at 0x12793876780>,\n",
       " <sqlalchemy.ext.automap.measurement at 0x12793876828>,\n",
       " <sqlalchemy.ext.automap.measurement at 0x127938768d0>,\n",
       " <sqlalchemy.ext.automap.measurement at 0x12793876978>,\n",
       " <sqlalchemy.ext.automap.measurement at 0x12793876a20>,\n",
       " <sqlalchemy.ext.automap.measurement at 0x12793876ac8>,\n",
       " <sqlalchemy.ext.automap.measurement at 0x12793876b70>,\n",
       " <sqlalchemy.ext.automap.measurement at 0x12793876c18>,\n",
       " <sqlalchemy.ext.automap.measurement at 0x12793876cc0>,\n",
       " <sqlalchemy.ext.automap.measurement at 0x12793876d68>,\n",
       " <sqlalchemy.ext.automap.measurement at 0x12793876e10>,\n",
       " <sqlalchemy.ext.automap.measurement at 0x12793876eb8>,\n",
       " <sqlalchemy.ext.automap.measurement at 0x12793876f60>,\n",
       " <sqlalchemy.ext.automap.measurement at 0x1279387f048>,\n",
       " <sqlalchemy.ext.automap.measurement at 0x1279387f0f0>,\n",
       " <sqlalchemy.ext.automap.measurement at 0x1279387f198>,\n",
       " <sqlalchemy.ext.automap.measurement at 0x1279387f240>,\n",
       " <sqlalchemy.ext.automap.measurement at 0x1279387f2e8>,\n",
       " <sqlalchemy.ext.automap.measurement at 0x1279387f390>,\n",
       " <sqlalchemy.ext.automap.measurement at 0x1279387f438>,\n",
       " <sqlalchemy.ext.automap.measurement at 0x1279387f4e0>,\n",
       " <sqlalchemy.ext.automap.measurement at 0x1279387f588>,\n",
       " <sqlalchemy.ext.automap.measurement at 0x1279387f630>,\n",
       " <sqlalchemy.ext.automap.measurement at 0x1279387f6d8>,\n",
       " <sqlalchemy.ext.automap.measurement at 0x1279387f780>,\n",
       " <sqlalchemy.ext.automap.measurement at 0x1279387f828>,\n",
       " <sqlalchemy.ext.automap.measurement at 0x1279387f8d0>,\n",
       " <sqlalchemy.ext.automap.measurement at 0x1279387f978>,\n",
       " <sqlalchemy.ext.automap.measurement at 0x1279387fa20>,\n",
       " <sqlalchemy.ext.automap.measurement at 0x1279387fac8>,\n",
       " <sqlalchemy.ext.automap.measurement at 0x1279387fb70>,\n",
       " <sqlalchemy.ext.automap.measurement at 0x1279387fc18>,\n",
       " <sqlalchemy.ext.automap.measurement at 0x1279387fcc0>,\n",
       " <sqlalchemy.ext.automap.measurement at 0x1279387fd68>,\n",
       " <sqlalchemy.ext.automap.measurement at 0x1279387fe10>,\n",
       " <sqlalchemy.ext.automap.measurement at 0x1279387feb8>,\n",
       " <sqlalchemy.ext.automap.measurement at 0x1279387ff60>,\n",
       " <sqlalchemy.ext.automap.measurement at 0x12793888048>,\n",
       " <sqlalchemy.ext.automap.measurement at 0x127938880f0>,\n",
       " <sqlalchemy.ext.automap.measurement at 0x12793888198>,\n",
       " <sqlalchemy.ext.automap.measurement at 0x12793888240>,\n",
       " <sqlalchemy.ext.automap.measurement at 0x127938882e8>,\n",
       " <sqlalchemy.ext.automap.measurement at 0x12793888390>,\n",
       " <sqlalchemy.ext.automap.measurement at 0x12793888438>,\n",
       " <sqlalchemy.ext.automap.measurement at 0x127938884e0>,\n",
       " <sqlalchemy.ext.automap.measurement at 0x12793888588>,\n",
       " <sqlalchemy.ext.automap.measurement at 0x12793888630>,\n",
       " <sqlalchemy.ext.automap.measurement at 0x127938886d8>,\n",
       " <sqlalchemy.ext.automap.measurement at 0x12793888780>,\n",
       " <sqlalchemy.ext.automap.measurement at 0x12793888828>,\n",
       " <sqlalchemy.ext.automap.measurement at 0x127938888d0>,\n",
       " <sqlalchemy.ext.automap.measurement at 0x12793888978>,\n",
       " <sqlalchemy.ext.automap.measurement at 0x12793888a20>,\n",
       " <sqlalchemy.ext.automap.measurement at 0x12793888ac8>,\n",
       " <sqlalchemy.ext.automap.measurement at 0x12793888b70>,\n",
       " <sqlalchemy.ext.automap.measurement at 0x12793888c18>,\n",
       " <sqlalchemy.ext.automap.measurement at 0x12793888cc0>,\n",
       " <sqlalchemy.ext.automap.measurement at 0x12793888d68>,\n",
       " <sqlalchemy.ext.automap.measurement at 0x12793888e10>,\n",
       " <sqlalchemy.ext.automap.measurement at 0x12793888eb8>,\n",
       " <sqlalchemy.ext.automap.measurement at 0x12793888f60>,\n",
       " <sqlalchemy.ext.automap.measurement at 0x12793890048>,\n",
       " <sqlalchemy.ext.automap.measurement at 0x127938900f0>,\n",
       " <sqlalchemy.ext.automap.measurement at 0x12793890198>,\n",
       " <sqlalchemy.ext.automap.measurement at 0x12793890240>,\n",
       " <sqlalchemy.ext.automap.measurement at 0x127938902e8>,\n",
       " <sqlalchemy.ext.automap.measurement at 0x12793890390>,\n",
       " <sqlalchemy.ext.automap.measurement at 0x12793890438>,\n",
       " <sqlalchemy.ext.automap.measurement at 0x127938904e0>,\n",
       " <sqlalchemy.ext.automap.measurement at 0x12793890588>,\n",
       " <sqlalchemy.ext.automap.measurement at 0x12793890630>,\n",
       " <sqlalchemy.ext.automap.measurement at 0x127938906d8>,\n",
       " <sqlalchemy.ext.automap.measurement at 0x12793890780>,\n",
       " <sqlalchemy.ext.automap.measurement at 0x12793890828>,\n",
       " <sqlalchemy.ext.automap.measurement at 0x127938908d0>,\n",
       " <sqlalchemy.ext.automap.measurement at 0x12793890978>,\n",
       " <sqlalchemy.ext.automap.measurement at 0x12793890a20>,\n",
       " <sqlalchemy.ext.automap.measurement at 0x12793890ac8>,\n",
       " <sqlalchemy.ext.automap.measurement at 0x12793890b70>,\n",
       " <sqlalchemy.ext.automap.measurement at 0x12793890c18>,\n",
       " <sqlalchemy.ext.automap.measurement at 0x12793890cc0>,\n",
       " <sqlalchemy.ext.automap.measurement at 0x12793890d68>,\n",
       " <sqlalchemy.ext.automap.measurement at 0x12793890e10>,\n",
       " <sqlalchemy.ext.automap.measurement at 0x12793890eb8>,\n",
       " <sqlalchemy.ext.automap.measurement at 0x12793890f60>,\n",
       " <sqlalchemy.ext.automap.measurement at 0x12793898048>,\n",
       " <sqlalchemy.ext.automap.measurement at 0x127938980f0>,\n",
       " <sqlalchemy.ext.automap.measurement at 0x12793898198>,\n",
       " <sqlalchemy.ext.automap.measurement at 0x12793898240>,\n",
       " <sqlalchemy.ext.automap.measurement at 0x127938982e8>,\n",
       " <sqlalchemy.ext.automap.measurement at 0x12793898390>,\n",
       " <sqlalchemy.ext.automap.measurement at 0x12793898438>,\n",
       " <sqlalchemy.ext.automap.measurement at 0x127938984e0>,\n",
       " <sqlalchemy.ext.automap.measurement at 0x12793898588>,\n",
       " <sqlalchemy.ext.automap.measurement at 0x12793898630>,\n",
       " <sqlalchemy.ext.automap.measurement at 0x127938986d8>,\n",
       " <sqlalchemy.ext.automap.measurement at 0x12793898780>,\n",
       " <sqlalchemy.ext.automap.measurement at 0x12793898828>,\n",
       " <sqlalchemy.ext.automap.measurement at 0x127938988d0>,\n",
       " <sqlalchemy.ext.automap.measurement at 0x12793898978>,\n",
       " <sqlalchemy.ext.automap.measurement at 0x12793898a20>,\n",
       " <sqlalchemy.ext.automap.measurement at 0x12793898ac8>,\n",
       " <sqlalchemy.ext.automap.measurement at 0x12793898b70>,\n",
       " <sqlalchemy.ext.automap.measurement at 0x12793898c18>,\n",
       " <sqlalchemy.ext.automap.measurement at 0x12793898cc0>,\n",
       " <sqlalchemy.ext.automap.measurement at 0x12793898d68>,\n",
       " <sqlalchemy.ext.automap.measurement at 0x12793898e10>,\n",
       " <sqlalchemy.ext.automap.measurement at 0x12793898eb8>,\n",
       " <sqlalchemy.ext.automap.measurement at 0x12793898f60>,\n",
       " <sqlalchemy.ext.automap.measurement at 0x127938a2048>,\n",
       " <sqlalchemy.ext.automap.measurement at 0x127938a20f0>,\n",
       " <sqlalchemy.ext.automap.measurement at 0x127938a2198>,\n",
       " <sqlalchemy.ext.automap.measurement at 0x127938a2240>,\n",
       " <sqlalchemy.ext.automap.measurement at 0x127938a22e8>,\n",
       " <sqlalchemy.ext.automap.measurement at 0x127938a2390>,\n",
       " <sqlalchemy.ext.automap.measurement at 0x127938a2438>,\n",
       " <sqlalchemy.ext.automap.measurement at 0x127938a24e0>,\n",
       " <sqlalchemy.ext.automap.measurement at 0x127938a2588>,\n",
       " <sqlalchemy.ext.automap.measurement at 0x127938a2630>,\n",
       " <sqlalchemy.ext.automap.measurement at 0x127938a26d8>,\n",
       " <sqlalchemy.ext.automap.measurement at 0x127938a2780>,\n",
       " <sqlalchemy.ext.automap.measurement at 0x127938a2828>,\n",
       " <sqlalchemy.ext.automap.measurement at 0x127938a28d0>,\n",
       " <sqlalchemy.ext.automap.measurement at 0x127938a2978>,\n",
       " <sqlalchemy.ext.automap.measurement at 0x127938a2a20>,\n",
       " <sqlalchemy.ext.automap.measurement at 0x127938a2ac8>,\n",
       " <sqlalchemy.ext.automap.measurement at 0x127938a2b70>,\n",
       " <sqlalchemy.ext.automap.measurement at 0x127938a2c18>,\n",
       " <sqlalchemy.ext.automap.measurement at 0x127938a2cc0>,\n",
       " <sqlalchemy.ext.automap.measurement at 0x127938a2d68>,\n",
       " <sqlalchemy.ext.automap.measurement at 0x127938a2e10>,\n",
       " <sqlalchemy.ext.automap.measurement at 0x127938a2eb8>,\n",
       " <sqlalchemy.ext.automap.measurement at 0x127938a2f60>,\n",
       " <sqlalchemy.ext.automap.measurement at 0x127938aa048>,\n",
       " <sqlalchemy.ext.automap.measurement at 0x127938aa0f0>,\n",
       " <sqlalchemy.ext.automap.measurement at 0x127938aa198>,\n",
       " <sqlalchemy.ext.automap.measurement at 0x127938aa240>,\n",
       " <sqlalchemy.ext.automap.measurement at 0x127938aa2e8>,\n",
       " <sqlalchemy.ext.automap.measurement at 0x127938aa390>,\n",
       " <sqlalchemy.ext.automap.measurement at 0x127938aa438>,\n",
       " <sqlalchemy.ext.automap.measurement at 0x127938aa4e0>,\n",
       " <sqlalchemy.ext.automap.measurement at 0x127938aa588>,\n",
       " <sqlalchemy.ext.automap.measurement at 0x127938aa630>,\n",
       " <sqlalchemy.ext.automap.measurement at 0x127938aa6d8>,\n",
       " <sqlalchemy.ext.automap.measurement at 0x127938aa780>,\n",
       " <sqlalchemy.ext.automap.measurement at 0x127938aa828>,\n",
       " <sqlalchemy.ext.automap.measurement at 0x127938aa8d0>,\n",
       " <sqlalchemy.ext.automap.measurement at 0x127938aa978>,\n",
       " <sqlalchemy.ext.automap.measurement at 0x127938aaa20>,\n",
       " <sqlalchemy.ext.automap.measurement at 0x127938aaac8>,\n",
       " <sqlalchemy.ext.automap.measurement at 0x127938aab70>,\n",
       " <sqlalchemy.ext.automap.measurement at 0x127938aac18>,\n",
       " <sqlalchemy.ext.automap.measurement at 0x127938aacc0>,\n",
       " <sqlalchemy.ext.automap.measurement at 0x127938aad68>,\n",
       " <sqlalchemy.ext.automap.measurement at 0x127938aae10>,\n",
       " <sqlalchemy.ext.automap.measurement at 0x127938aaeb8>,\n",
       " <sqlalchemy.ext.automap.measurement at 0x127938aaf60>,\n",
       " <sqlalchemy.ext.automap.measurement at 0x127938b4048>,\n",
       " <sqlalchemy.ext.automap.measurement at 0x127938b40f0>,\n",
       " <sqlalchemy.ext.automap.measurement at 0x127938b4198>,\n",
       " <sqlalchemy.ext.automap.measurement at 0x127938b4240>,\n",
       " <sqlalchemy.ext.automap.measurement at 0x127938b42e8>,\n",
       " <sqlalchemy.ext.automap.measurement at 0x127938b4390>,\n",
       " <sqlalchemy.ext.automap.measurement at 0x127938b4438>,\n",
       " <sqlalchemy.ext.automap.measurement at 0x127938b44e0>,\n",
       " <sqlalchemy.ext.automap.measurement at 0x127938b4588>,\n",
       " <sqlalchemy.ext.automap.measurement at 0x127938b4630>,\n",
       " <sqlalchemy.ext.automap.measurement at 0x127938b46d8>,\n",
       " <sqlalchemy.ext.automap.measurement at 0x127938b4780>,\n",
       " <sqlalchemy.ext.automap.measurement at 0x127938b4828>,\n",
       " <sqlalchemy.ext.automap.measurement at 0x127938b48d0>,\n",
       " <sqlalchemy.ext.automap.measurement at 0x127938b4978>,\n",
       " <sqlalchemy.ext.automap.measurement at 0x127938b4a20>,\n",
       " <sqlalchemy.ext.automap.measurement at 0x127938b4ac8>,\n",
       " <sqlalchemy.ext.automap.measurement at 0x127938b4b70>,\n",
       " <sqlalchemy.ext.automap.measurement at 0x127938b4c18>,\n",
       " <sqlalchemy.ext.automap.measurement at 0x127938b4cc0>,\n",
       " <sqlalchemy.ext.automap.measurement at 0x127938b4d68>,\n",
       " <sqlalchemy.ext.automap.measurement at 0x127938b4e10>,\n",
       " <sqlalchemy.ext.automap.measurement at 0x127938b4eb8>,\n",
       " <sqlalchemy.ext.automap.measurement at 0x127938b4f60>,\n",
       " <sqlalchemy.ext.automap.measurement at 0x127938bc048>,\n",
       " <sqlalchemy.ext.automap.measurement at 0x127938bc0f0>,\n",
       " <sqlalchemy.ext.automap.measurement at 0x127938bc198>,\n",
       " <sqlalchemy.ext.automap.measurement at 0x127938bc240>,\n",
       " <sqlalchemy.ext.automap.measurement at 0x127938bc2e8>,\n",
       " <sqlalchemy.ext.automap.measurement at 0x127938bc390>,\n",
       " <sqlalchemy.ext.automap.measurement at 0x127938bc438>,\n",
       " <sqlalchemy.ext.automap.measurement at 0x127938bc4e0>,\n",
       " <sqlalchemy.ext.automap.measurement at 0x127938bc588>,\n",
       " <sqlalchemy.ext.automap.measurement at 0x127938bc630>,\n",
       " <sqlalchemy.ext.automap.measurement at 0x127938bc6d8>,\n",
       " <sqlalchemy.ext.automap.measurement at 0x127938bc780>,\n",
       " <sqlalchemy.ext.automap.measurement at 0x127938bc828>,\n",
       " <sqlalchemy.ext.automap.measurement at 0x127938bc8d0>,\n",
       " <sqlalchemy.ext.automap.measurement at 0x127938bc978>,\n",
       " <sqlalchemy.ext.automap.measurement at 0x127938bca20>,\n",
       " <sqlalchemy.ext.automap.measurement at 0x127938bcac8>,\n",
       " <sqlalchemy.ext.automap.measurement at 0x127938bcb70>,\n",
       " <sqlalchemy.ext.automap.measurement at 0x127938bcc18>,\n",
       " <sqlalchemy.ext.automap.measurement at 0x127938bccc0>,\n",
       " <sqlalchemy.ext.automap.measurement at 0x127938bcd68>,\n",
       " <sqlalchemy.ext.automap.measurement at 0x127938bce10>,\n",
       " <sqlalchemy.ext.automap.measurement at 0x127938bceb8>,\n",
       " <sqlalchemy.ext.automap.measurement at 0x127938bcf60>,\n",
       " <sqlalchemy.ext.automap.measurement at 0x127938c5048>,\n",
       " <sqlalchemy.ext.automap.measurement at 0x127938c50f0>,\n",
       " <sqlalchemy.ext.automap.measurement at 0x127938c5198>,\n",
       " <sqlalchemy.ext.automap.measurement at 0x127938c5240>,\n",
       " <sqlalchemy.ext.automap.measurement at 0x127938c52e8>,\n",
       " <sqlalchemy.ext.automap.measurement at 0x127938c5390>,\n",
       " <sqlalchemy.ext.automap.measurement at 0x127938c5438>,\n",
       " <sqlalchemy.ext.automap.measurement at 0x127938c54e0>,\n",
       " <sqlalchemy.ext.automap.measurement at 0x127938c5588>,\n",
       " <sqlalchemy.ext.automap.measurement at 0x127938c5630>,\n",
       " <sqlalchemy.ext.automap.measurement at 0x127938c56d8>,\n",
       " <sqlalchemy.ext.automap.measurement at 0x127938c5780>,\n",
       " <sqlalchemy.ext.automap.measurement at 0x127938c5828>,\n",
       " <sqlalchemy.ext.automap.measurement at 0x127938c58d0>,\n",
       " <sqlalchemy.ext.automap.measurement at 0x127938c5978>,\n",
       " <sqlalchemy.ext.automap.measurement at 0x127938c5a20>,\n",
       " <sqlalchemy.ext.automap.measurement at 0x127938c5ac8>,\n",
       " <sqlalchemy.ext.automap.measurement at 0x127938c5b70>,\n",
       " <sqlalchemy.ext.automap.measurement at 0x127938c5c18>,\n",
       " <sqlalchemy.ext.automap.measurement at 0x127938c5cc0>,\n",
       " <sqlalchemy.ext.automap.measurement at 0x127938c5d68>,\n",
       " <sqlalchemy.ext.automap.measurement at 0x127938c5e10>,\n",
       " <sqlalchemy.ext.automap.measurement at 0x127938c5eb8>,\n",
       " <sqlalchemy.ext.automap.measurement at 0x127938c5f60>,\n",
       " <sqlalchemy.ext.automap.measurement at 0x127938cd048>,\n",
       " <sqlalchemy.ext.automap.measurement at 0x127938cd0f0>,\n",
       " <sqlalchemy.ext.automap.measurement at 0x127938cd198>,\n",
       " <sqlalchemy.ext.automap.measurement at 0x127938cd240>,\n",
       " <sqlalchemy.ext.automap.measurement at 0x127938cd2e8>,\n",
       " <sqlalchemy.ext.automap.measurement at 0x127938cd390>,\n",
       " <sqlalchemy.ext.automap.measurement at 0x127938cd438>,\n",
       " <sqlalchemy.ext.automap.measurement at 0x127938cd4e0>,\n",
       " <sqlalchemy.ext.automap.measurement at 0x127938cd588>,\n",
       " <sqlalchemy.ext.automap.measurement at 0x127938cd630>,\n",
       " <sqlalchemy.ext.automap.measurement at 0x127938cd6d8>,\n",
       " <sqlalchemy.ext.automap.measurement at 0x127938cd780>,\n",
       " <sqlalchemy.ext.automap.measurement at 0x127938cd828>,\n",
       " <sqlalchemy.ext.automap.measurement at 0x127938cd8d0>,\n",
       " <sqlalchemy.ext.automap.measurement at 0x127938cd978>,\n",
       " <sqlalchemy.ext.automap.measurement at 0x127938cda20>,\n",
       " <sqlalchemy.ext.automap.measurement at 0x127938cdac8>,\n",
       " <sqlalchemy.ext.automap.measurement at 0x127938cdb70>,\n",
       " <sqlalchemy.ext.automap.measurement at 0x127938cdc18>,\n",
       " <sqlalchemy.ext.automap.measurement at 0x127938cdcc0>,\n",
       " <sqlalchemy.ext.automap.measurement at 0x127938cdd68>,\n",
       " <sqlalchemy.ext.automap.measurement at 0x127938cde10>,\n",
       " <sqlalchemy.ext.automap.measurement at 0x127938cdeb8>,\n",
       " <sqlalchemy.ext.automap.measurement at 0x127938cdf60>,\n",
       " <sqlalchemy.ext.automap.measurement at 0x127938d5048>,\n",
       " <sqlalchemy.ext.automap.measurement at 0x127938d50f0>,\n",
       " <sqlalchemy.ext.automap.measurement at 0x127938d5198>,\n",
       " <sqlalchemy.ext.automap.measurement at 0x127938d5240>,\n",
       " <sqlalchemy.ext.automap.measurement at 0x127938d52e8>,\n",
       " ...]"
      ]
     },
     "metadata": {},
     "execution_count": 50
    }
   ],
   "source": [
    "# Design a query to retrieve the last 12 months of precipitation data and plot the results\n",
    "l_twelve = (Query(measurement)\n",
    ".with_session(session)\n",
    ".filter(measurement.date.strftime)\n",
    ".all()\n",
    ")\n",
    "\n",
    "# Calculate the date 1 year ago from the last data point in the database\n",
    "\n",
    "# Perform a query to retrieve the data and precipitation scores\n",
    "\n",
    "# Save the query results as a Pandas DataFrame and set the index to the date column\n",
    "\n",
    "# Sort the dataframe by date\n",
    "\n",
    "# Use Pandas Plotting with Matplotlib to plot the data\n",
    "l_twelve"
   ]
  },
  {
   "cell_type": "code",
   "execution_count": null,
   "metadata": {},
   "outputs": [],
   "source": [
    "# Use Pandas to calcualte the summary statistics for the precipitation data"
   ]
  },
  {
   "cell_type": "code",
   "execution_count": null,
   "metadata": {},
   "outputs": [],
   "source": [
    "# Design a query to show how many stations are available in this dataset?\n"
   ]
  },
  {
   "cell_type": "code",
   "execution_count": null,
   "metadata": {},
   "outputs": [],
   "source": [
    "# What are the most active stations? (i.e. what stations have the most rows)?\n",
    "# List the stations and the counts in descending order.\n"
   ]
  },
  {
   "cell_type": "code",
   "execution_count": null,
   "metadata": {},
   "outputs": [],
   "source": [
    "# Using the station id from the previous query, calculate the lowest temperature recorded, \n",
    "# highest temperature recorded, and average temperature of the most active station?\n"
   ]
  },
  {
   "cell_type": "code",
   "execution_count": null,
   "metadata": {},
   "outputs": [],
   "source": [
    "# Choose the station with the highest number of temperature observations.\n",
    "# Query the last 12 months of temperature observation data for this station and plot the results as a histogram\n"
   ]
  },
  {
   "cell_type": "markdown",
   "metadata": {},
   "source": [
    "## Bonus Challenge Assignment"
   ]
  },
  {
   "cell_type": "code",
   "execution_count": null,
   "metadata": {},
   "outputs": [],
   "source": [
    "# This function called `calc_temps` will accept start date and end date in the format '%Y-%m-%d' \n",
    "# and return the minimum, average, and maximum temperatures for that range of dates\n",
    "def calc_temps(start_date, end_date):\n",
    "    \"\"\"TMIN, TAVG, and TMAX for a list of dates.\n",
    "    \n",
    "    Args:\n",
    "        start_date (string): A date string in the format %Y-%m-%d\n",
    "        end_date (string): A date string in the format %Y-%m-%d\n",
    "        \n",
    "    Returns:\n",
    "        TMIN, TAVE, and TMAX\n",
    "    \"\"\"\n",
    "    \n",
    "    return session.query(func.min(Measurement.tobs), func.avg(Measurement.tobs), func.max(Measurement.tobs)).\\\n",
    "        filter(Measurement.date >= start_date).filter(Measurement.date <= end_date).all()\n",
    "\n",
    "# function usage example\n",
    "print(calc_temps('2012-02-28', '2012-03-05'))"
   ]
  },
  {
   "cell_type": "code",
   "execution_count": null,
   "metadata": {},
   "outputs": [],
   "source": [
    "# Use your previous function `calc_temps` to calculate the tmin, tavg, and tmax \n",
    "# for your trip using the previous year's data for those same dates.\n"
   ]
  },
  {
   "cell_type": "code",
   "execution_count": null,
   "metadata": {},
   "outputs": [],
   "source": [
    "# Plot the results from your previous query as a bar chart. \n",
    "# Use \"Trip Avg Temp\" as your Title\n",
    "# Use the average temperature for the y value\n",
    "# Use the peak-to-peak (tmax-tmin) value as the y error bar (yerr)\n"
   ]
  },
  {
   "cell_type": "code",
   "execution_count": null,
   "metadata": {},
   "outputs": [],
   "source": [
    "# Calculate the total amount of rainfall per weather station for your trip dates using the previous year's matching dates.\n",
    "# Sort this in descending order by precipitation amount and list the station, name, latitude, longitude, and elevation\n",
    "\n"
   ]
  },
  {
   "cell_type": "code",
   "execution_count": null,
   "metadata": {},
   "outputs": [],
   "source": [
    "# Create a query that will calculate the daily normals \n",
    "# (i.e. the averages for tmin, tmax, and tavg for all historic data matching a specific month and day)\n",
    "\n",
    "def daily_normals(date):\n",
    "    \"\"\"Daily Normals.\n",
    "    \n",
    "    Args:\n",
    "        date (str): A date string in the format '%m-%d'\n",
    "        \n",
    "    Returns:\n",
    "        A list of tuples containing the daily normals, tmin, tavg, and tmax\n",
    "    \n",
    "    \"\"\"\n",
    "    \n",
    "    sel = [func.min(Measurement.tobs), func.avg(Measurement.tobs), func.max(Measurement.tobs)]\n",
    "    return session.query(*sel).filter(func.strftime(\"%m-%d\", Measurement.date) == date).all()\n",
    "    \n",
    "daily_normals(\"01-01\")"
   ]
  },
  {
   "cell_type": "code",
   "execution_count": null,
   "metadata": {},
   "outputs": [],
   "source": [
    "# calculate the daily normals for your trip\n",
    "# push each tuple of calculations into a list called `normals`\n",
    "\n",
    "# Set the start and end date of the trip\n",
    "\n",
    "# Use the start and end date to create a range of dates\n",
    "\n",
    "# Stip off the year and save a list of %m-%d strings\n",
    "\n",
    "# Loop through the list of %m-%d strings and calculate the normals for each date\n"
   ]
  },
  {
   "cell_type": "code",
   "execution_count": null,
   "metadata": {},
   "outputs": [],
   "source": [
    "# Load the previous query results into a Pandas DataFrame and add the `trip_dates` range as the `date` index\n"
   ]
  },
  {
   "cell_type": "code",
   "execution_count": null,
   "metadata": {},
   "outputs": [],
   "source": [
    "# Plot the daily normals as an area plot with `stacked=False`\n"
   ]
  }
 ],
 "metadata": {
  "kernel_info": {
   "name": "python3"
  },
  "kernelspec": {
   "display_name": "Python 3",
   "language": "python",
   "name": "python3"
  },
  "language_info": {
   "codemirror_mode": {
    "name": "ipython",
    "version": 3
   },
   "file_extension": ".py",
   "mimetype": "text/x-python",
   "name": "python",
   "nbconvert_exporter": "python",
   "pygments_lexer": "ipython3",
   "version": "3.6.10-final"
  },
  "nteract": {
   "version": "0.12.3"
  },
  "varInspector": {
   "cols": {
    "lenName": 16,
    "lenType": 16,
    "lenVar": 40
   },
   "kernels_config": {
    "python": {
     "delete_cmd_postfix": "",
     "delete_cmd_prefix": "del ",
     "library": "var_list.py",
     "varRefreshCmd": "print(var_dic_list())"
    },
    "r": {
     "delete_cmd_postfix": ") ",
     "delete_cmd_prefix": "rm(",
     "library": "var_list.r",
     "varRefreshCmd": "cat(var_dic_list()) "
    }
   },
   "types_to_exclude": [
    "module",
    "function",
    "builtin_function_or_method",
    "instance",
    "_Feature"
   ],
   "window_display": false
  }
 },
 "nbformat": 4,
 "nbformat_minor": 2
}